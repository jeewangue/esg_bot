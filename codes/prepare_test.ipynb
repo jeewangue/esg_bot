{
 "cells": [
  {
   "cell_type": "code",
   "execution_count": 1,
   "id": "5ce81006-2b7b-46f4-a3e2-d32375f61265",
   "metadata": {},
   "outputs": [],
   "source": [
    "# Configuring\n",
    "from data_handler.lc_docstore_handler.in_memory_docstore_handler import InMemoryDocstoreHandler\n",
    "from data_handler.lc_retrieverHandler.retriever_handler import RetrieverHandler\n",
    "from data_handler.report_handler.pdf_image_report_handler import PdfImageReportHandler\n",
    "from data_handler.summary_handler.gpt_summary_handler import GPTSummaryHandler\n",
    "from data_handler.lc_vectorstore_handler.pinecone_vectorstore_handler import PineconeVectorstoreHandler\n",
    "\n",
    "from dotenv import load_dotenv\n",
    "import pandas as pd\n",
    "import os\n",
    "\n",
    "# Load the .env file\n",
    "load_dotenv()\n",
    "os.chdir('..')\n",
    "\n",
    "report_data_dir = \"./data/reports/\"\n",
    "report_name = \"report.pdf\"\n",
    "file_list_df = pd.read_csv(\"./data/reports.csv\")\n",
    "\n",
    "target = \"SK텔레콤\"\n",
    "row = file_list_df[file_list_df.company_name == target].iloc[0]\n",
    "\n",
    "company_name = row[\"company_name\"]\n",
    "year = row[\"year\"]\n",
    "url = f\"{os.getenv('logblack_url')}{company_name}_{year}.pdf\"\n",
    "\n",
    "# FIXME: TESTING.\n",
    "url = \"https://www.clickdimensions.com/links/TestPDFfile.pdf\""
   ]
  },
  {
   "cell_type": "code",
   "execution_count": 2,
   "id": "adc75ef5-243f-4b99-becf-0ddae57c712b",
   "metadata": {},
   "outputs": [
    {
     "name": "stdout",
     "output_type": "stream",
     "text": [
      "File downloaded successfully and saved to ./data/reports/SK텔레콤2023/report.pdf\n"
     ]
    },
    {
     "name": "stderr",
     "output_type": "stream",
     "text": [
      "Some weights of the model checkpoint at microsoft/table-transformer-structure-recognition were not used when initializing TableTransformerForObjectDetection: ['model.backbone.conv_encoder.model.layer2.0.downsample.1.num_batches_tracked', 'model.backbone.conv_encoder.model.layer3.0.downsample.1.num_batches_tracked', 'model.backbone.conv_encoder.model.layer4.0.downsample.1.num_batches_tracked']\n",
      "- This IS expected if you are initializing TableTransformerForObjectDetection from the checkpoint of a model trained on another task or with another architecture (e.g. initializing a BertForSequenceClassification model from a BertForPreTraining model).\n",
      "- This IS NOT expected if you are initializing TableTransformerForObjectDetection from the checkpoint of a model that you expect to be exactly identical (initializing a BertForSequenceClassification model from a BertForSequenceClassification model).\n"
     ]
    },
    {
     "name": "stdout",
     "output_type": "stream",
     "text": [
      "Saved image to ./data/reports/SK텔레콤2023/page_images, 1 files\n"
     ]
    }
   ],
   "source": [
    "# pdf to components.\n",
    "\n",
    "components = PdfImageReportHandler(\n",
    "        company_name=company_name, year=year, report_url=url\n",
    "        ).splitReport(report_data_dir, report_name)"
   ]
  },
  {
   "cell_type": "code",
   "execution_count": 3,
   "id": "e0c3b2d8-2041-41e7-9428-33cfaaf8b1fb",
   "metadata": {},
   "outputs": [
    {
     "name": "stdout",
     "output_type": "stream",
     "text": [
      "source_url summary generated\n",
      "tables summary generated\n",
      "Error on summary generation: Error code: 404 - {'error': {'message': 'The model `GPT-4o` does not exist or you do not have access to it.', 'type': 'invalid_request_error', 'param': None, 'code': 'model_not_found'}}\n"
     ]
    }
   ],
   "source": [
    "summarized_components = GPTSummaryHandler().summary(components)"
   ]
  },
  {
   "cell_type": "code",
   "execution_count": null,
   "id": "e9226737-dc49-4461-806b-5df729747c05",
   "metadata": {},
   "outputs": [],
   "source": [
    "# USE LangChain from here.\n",
    "vectorstore_handler = PineconeVectorstoreHandler(\n",
    "        company_name=company, year=year, embeddingModel='text-embedding-3-large'\n",
    "        ).getStore()\n",
    "docstore_handler = InMemoryDocstoreHandler().getStore()\n",
    "\n",
    "lc_retriever = RetrieverHandler(vectorstore_handler, docstore_handler)\n",
    "lc_retriever.add(summarized_components)\n",
    "docstore_handler.export()\n"
   ]
  }
 ],
 "metadata": {
  "kernelspec": {
   "display_name": "Python 3 (ipykernel)",
   "language": "python",
   "name": "python3"
  },
  "language_info": {
   "codemirror_mode": {
    "name": "ipython",
    "version": 3
   },
   "file_extension": ".py",
   "mimetype": "text/x-python",
   "name": "python",
   "nbconvert_exporter": "python",
   "pygments_lexer": "ipython3",
   "version": "3.12.3"
  }
 },
 "nbformat": 4,
 "nbformat_minor": 5
}
